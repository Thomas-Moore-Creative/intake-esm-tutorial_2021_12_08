{
 "cells": [
  {
   "cell_type": "markdown",
   "id": "ef8421bc-f312-4847-a771-c02ac7293359",
   "metadata": {
    "tags": []
   },
   "source": [
    "# Introduction to Intake-ESM\n",
    "\n",
    "**Max Grover**\n",
    "\n",
    "**08 December 2021**\n",
    "\n",
    "---\n",
    "\n",
    "# Overview\n",
    "\n",
    "1. What is Intake-ESM?\n",
    "2. How can we use it to read in data?\n",
    "3. How do we work with dictionaries of datasets?\n",
    "4. How do I write my analysis to work with Intake-ESM?\n",
    "\n",
    "# Prerequisites\n",
    "\n",
    "|Concepts | Importance | Notes |\n",
    "| --- | --- | --- |\n",
    "| [Introduction to Xarray](https://foundations.projectpythia.org/core/xarray/xarray.html) | Necessary | - |\n",
    "| [Introduction to Matplotlib](https://foundations.projectpythia.org/core/matplotlib/matplotlib.html) | Helpful | - |\n",
    "\n",
    "- Time to learn: 50 minutes.\n",
    "\n",
    "---\n",
    "\n",
    "# Setup\n",
    "\n",
    "## Imports"
   ]
  },
  {
   "cell_type": "code",
   "execution_count": null,
   "id": "428f80cb-e0ce-4c86-9df0-41d1319edbee",
   "metadata": {},
   "outputs": [],
   "source": [
    "import intake\n",
    "from distributed import Client, LocalCluster\n",
    "import xarray as xr\n",
    "import matplotlib.pyplot as plt\n",
    "import fsspec"
   ]
  },
  {
   "cell_type": "markdown",
   "id": "b945ac59-2f1a-4453-9de9-bcfb5b646f82",
   "metadata": {},
   "source": [
    "## Spin up a Dask Cluster"
   ]
  },
  {
   "cell_type": "code",
   "execution_count": null,
   "id": "b5e0babd-cdac-49c3-bc3e-82454878f1a2",
   "metadata": {},
   "outputs": [],
   "source": [
    "cluster = LocalCluster()\n",
    "client = Client(cluster)\n",
    "client"
   ]
  },
  {
   "cell_type": "markdown",
   "id": "a0ada76e-01d3-4d73-907e-0780d55b3c8d",
   "metadata": {},
   "source": [
    "### Investigate the files on AWS from the CESM-LENS Dataset"
   ]
  },
  {
   "cell_type": "code",
   "execution_count": null,
   "id": "a1aec340-e309-44fd-a963-94033b19860a",
   "metadata": {},
   "outputs": [],
   "source": [
    "fs = fsspec.filesystem('s3', anon=True)\n",
    "bucket = 'ncar-cesm-lens'\n",
    "fs.ls(bucket)"
   ]
  },
  {
   "cell_type": "code",
   "execution_count": null,
   "id": "a47e5f04-91e2-44f2-b76b-805995b2fb82",
   "metadata": {},
   "outputs": [],
   "source": [
    "bucket = 'ncar-cesm-lens/ocn'\n",
    "fs.ls(bucket)"
   ]
  },
  {
   "cell_type": "code",
   "execution_count": null,
   "id": "f66e71ce-a608-425b-b4f1-37e29f927a05",
   "metadata": {},
   "outputs": [],
   "source": [
    "bucket = 'ncar-cesm-lens/ocn/monthly'\n",
    "fs.ls(bucket)"
   ]
  },
  {
   "cell_type": "markdown",
   "id": "eb63fac4-24e5-4846-b527-49c8469d7bf0",
   "metadata": {},
   "source": [
    "### Loading in Data Using Xarray"
   ]
  },
  {
   "cell_type": "code",
   "execution_count": null,
   "id": "de85361c-8452-4485-b600-9b041fe38fa2",
   "metadata": {},
   "outputs": [],
   "source": [
    "var = 'T'\n",
    "atmosphere_ds = xr.open_zarr(f's3://ncar-cesm-lens/atm/monthly/cesmLE-RCP85-{var}.zarr', storage_options={'anon':True})\n",
    "atmosphere_ds"
   ]
  },
  {
   "cell_type": "code",
   "execution_count": null,
   "id": "c73f838d-607c-43d3-9df5-7a9b96770ba9",
   "metadata": {},
   "outputs": [],
   "source": [
    "variables = ['T', 'Q']\n",
    "ds_list = []\n",
    "\n",
    "# Loop through the different files and add them to the list of datasets\n",
    "for var in variables:\n",
    "    ds_list.append(xr.open_zarr(f's3://ncar-cesm-lens/atm/monthly/cesmLE-RCP85-{var}.zarr', storage_options={'anon':True}))\n",
    "    \n",
    "atmosphere_merged = xr.merge(ds_list)\n",
    "atmosphere_merged"
   ]
  },
  {
   "cell_type": "markdown",
   "id": "57842215-ae8a-4f24-87a5-1f9afdc81a86",
   "metadata": {},
   "source": [
    "## Using Intake-ESM\n",
    "We can use the Intake-ESM catalog from the CESM-LENS dataset (`https://raw.githubusercontent.com/NCAR/cesm-lens-aws/master/intake-catalogs/aws-cesm1-le.json`) to work with these data!"
   ]
  },
  {
   "cell_type": "code",
   "execution_count": null,
   "id": "264cd491-e403-41d1-8341-c032e6f830bd",
   "metadata": {},
   "outputs": [],
   "source": [
    "data_catalog = intake.open_esm_datastore('https://raw.githubusercontent.com/NCAR/cesm-lens-aws/master/intake-catalogs/aws-cesm1-le.json')\n",
    "data_catalog"
   ]
  },
  {
   "cell_type": "code",
   "execution_count": null,
   "id": "fbcd9e01-fa1a-4fa8-88e0-2281099d5ff7",
   "metadata": {},
   "outputs": [],
   "source": [
    "data_catalog.df"
   ]
  },
  {
   "cell_type": "markdown",
   "id": "911cda5e-9152-47ad-ab6b-acb0d1cde2f5",
   "metadata": {},
   "source": [
    "## search"
   ]
  },
  {
   "cell_type": "code",
   "execution_count": null,
   "id": "51a437dd-3e13-4745-8b28-32f9b29b53bb",
   "metadata": {},
   "outputs": [],
   "source": [
    "search1 = data_catalog.search(variable=['T','Q','TEMP','SALT'],frequency='monthly')\n",
    "search1"
   ]
  },
  {
   "cell_type": "code",
   "execution_count": null,
   "id": "21f7708a-c430-455f-bef3-293b1153c557",
   "metadata": {},
   "outputs": [],
   "source": [
    "search1.df"
   ]
  },
  {
   "cell_type": "markdown",
   "id": "b40f51b9-840a-4e80-80c4-fb26d36e193d",
   "metadata": {},
   "source": [
    "## load the data"
   ]
  },
  {
   "cell_type": "code",
   "execution_count": null,
   "id": "8ba83127-682b-4f3c-8d00-ff5a60235d44",
   "metadata": {},
   "outputs": [],
   "source": [
    "dsets = search1.to_dataset_dict(storage_options={'anon':True})\n",
    "dsets.keys()"
   ]
  },
  {
   "cell_type": "code",
   "execution_count": null,
   "id": "671ce981-0f1c-4888-850a-979d8d3558c7",
   "metadata": {},
   "outputs": [],
   "source": [
    "oceanCTL_ds = dsets['ocn.CTRL.monthly']\n",
    "oceanCTL_ds"
   ]
  },
  {
   "cell_type": "code",
   "execution_count": null,
   "id": "64a7b8f3-9c4b-43ba-8b78-72674023722c",
   "metadata": {},
   "outputs": [],
   "source": [
    "temp = oceanCTL_ds.TEMP"
   ]
  },
  {
   "cell_type": "code",
   "execution_count": null,
   "id": "591a6910-f4f7-4e25-8d59-6543e3155ca5",
   "metadata": {},
   "outputs": [],
   "source": [
    "temp0 = oceanCTL_ds.TEMP.isel(time=0)"
   ]
  },
  {
   "cell_type": "code",
   "execution_count": null,
   "id": "bd3fc128-4260-4a38-985c-e218e30edc6d",
   "metadata": {},
   "outputs": [],
   "source": [
    "SST0 = temp0.isel(z_t=0)"
   ]
  },
  {
   "cell_type": "code",
   "execution_count": null,
   "id": "37e0216c-c7d6-4fc0-8318-0a3b107ac732",
   "metadata": {},
   "outputs": [],
   "source": [
    "SST0"
   ]
  },
  {
   "cell_type": "code",
   "execution_count": null,
   "id": "580d6c67-bf3d-4fac-b1f0-23ad8e41dbe5",
   "metadata": {
    "tags": []
   },
   "outputs": [],
   "source": [
    "%%timeit\n",
    "SST0 = SST0.compute()"
   ]
  },
  {
   "cell_type": "code",
   "execution_count": null,
   "id": "7a2bd033-b74f-4e44-87e9-70122b468415",
   "metadata": {},
   "outputs": [],
   "source": [
    "SST0.plot()"
   ]
  },
  {
   "cell_type": "code",
   "execution_count": null,
   "id": "37655a60-a92c-4080-ba17-80a770f60808",
   "metadata": {},
   "outputs": [],
   "source": []
  },
  {
   "cell_type": "markdown",
   "id": "4dd9e659-93ed-4bfe-8fc7-b054d5aa96f0",
   "metadata": {},
   "source": [
    "# The main steps"
   ]
  },
  {
   "cell_type": "markdown",
   "id": "88f913e2-495b-41c9-8c6a-b6ed4771b0db",
   "metadata": {},
   "source": [
    "## 1. load in catalog"
   ]
  },
  {
   "cell_type": "code",
   "execution_count": null,
   "id": "00c4ccdc-9d56-4008-9e6f-564e3ca6985c",
   "metadata": {},
   "outputs": [],
   "source": [
    "data_catalog = intake.open_esm_datastore('https://raw.githubusercontent.com/NCAR/cesm-lens-aws/master/intake-catalogs/aws-cesm1-le.json')\n",
    "data_catalog"
   ]
  },
  {
   "cell_type": "code",
   "execution_count": null,
   "id": "8cca3acb-86c1-40a5-b84f-cc4edf9b0f9f",
   "metadata": {},
   "outputs": [],
   "source": [
    "catalog_subset = data_catalog.search(component='atm',\n",
    "                                     variable=['T','Q'],\n",
    "                                     frequency='monthly',\n",
    "                                     experiment=['RCP85','20C'])\n",
    "catalog_subset.df"
   ]
  },
  {
   "cell_type": "code",
   "execution_count": null,
   "id": "c32f9dd6-b28c-4669-b827-076b772c43da",
   "metadata": {},
   "outputs": [],
   "source": [
    "catalog_subset.df.variable.unique()"
   ]
  },
  {
   "cell_type": "code",
   "execution_count": null,
   "id": "110219cc-7843-47f4-b12a-478acd7f7d3e",
   "metadata": {},
   "outputs": [],
   "source": [
    "dsets2 = catalog_subset.to_dataset_dict(storage_options={'anon':True})\n",
    "dsets2.keys()"
   ]
  },
  {
   "cell_type": "code",
   "execution_count": null,
   "id": "c6696227-c5f2-49ec-985a-ac66fad4dbd5",
   "metadata": {},
   "outputs": [],
   "source": [
    "historical_ds = dsets2['atm.20C.monthly']\n",
    "future_ds = dsets2['atm.RCP85.monthly']"
   ]
  },
  {
   "cell_type": "code",
   "execution_count": null,
   "id": "93962139-aa5b-4c84-abb8-a6602102679a",
   "metadata": {},
   "outputs": [],
   "source": [
    "lat = 40.015\n",
    "lon = 105.2705\n",
    "variable = 'T'\n",
    "\n",
    "historical_ds.isel(member_id=0,lev=-1).sel(lat=lat,lon=lon,method='nearest')"
   ]
  },
  {
   "cell_type": "code",
   "execution_count": null,
   "id": "c1bb87d0-9d9a-4521-b654-f52d24da037e",
   "metadata": {},
   "outputs": [],
   "source": [
    "%%time\n",
    "output = historical_ds.isel(member_id=0,lev=-1).sel(lat=lat,lon=lon,method='nearest').isel(time=range(2)).T.compute()"
   ]
  },
  {
   "cell_type": "code",
   "execution_count": null,
   "id": "9752de97-68b5-4390-825c-d2698657445a",
   "metadata": {},
   "outputs": [],
   "source": [
    "client.shutdown()"
   ]
  },
  {
   "cell_type": "code",
   "execution_count": null,
   "id": "0efbb996-0f38-49f3-9ee3-149ca50e2fe6",
   "metadata": {},
   "outputs": [],
   "source": []
  }
 ],
 "metadata": {
  "kernelspec": {
   "display_name": "Python 3 (ipykernel)",
   "language": "python",
   "name": "python3"
  },
  "language_info": {
   "codemirror_mode": {
    "name": "ipython",
    "version": 3
   },
   "file_extension": ".py",
   "mimetype": "text/x-python",
   "name": "python",
   "nbconvert_exporter": "python",
   "pygments_lexer": "ipython3",
   "version": "3.10.8"
  }
 },
 "nbformat": 4,
 "nbformat_minor": 5
}
